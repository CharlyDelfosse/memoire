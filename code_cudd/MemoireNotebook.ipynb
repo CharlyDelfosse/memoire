{
 "cells": [
  {
   "cell_type": "markdown",
   "metadata": {},
   "source": [
    "# Imports"
   ]
  },
  {
   "cell_type": "code",
   "execution_count": 1,
   "metadata": {},
   "outputs": [],
   "source": [
    "import dd.cudd as _bdd\n",
    "from game.generator import random_game\n",
    "from game.visualizer import graphgame_viz\n",
    "\n",
    "from zielonka import zielonka, ziel_with_psolver\n",
    "\n",
    "from psolvers import buchi_solver, good_ep_solver, lay_solver"
   ]
  },
  {
   "cell_type": "markdown",
   "metadata": {},
   "source": [
    "# Init game"
   ]
  },
  {
   "cell_type": "code",
   "execution_count": 2,
   "metadata": {},
   "outputs": [],
   "source": [
    "bdd = _bdd.BDD()\n",
    "rgame = random_game(bdd, 5,2,1,2)"
   ]
  },
  {
   "cell_type": "code",
   "execution_count": 56,
   "metadata": {},
   "outputs": [
    {
     "data": {
      "image/png": "[encoded data removed]",
      "text/plain": [
       "<Figure size 432x288 with 1 Axes>"
      ]
     },
     "metadata": {},
     "output_type": "display_data"
    }
   ],
   "source": [
    "from game.visualizer import graphgame_viz\n",
    "graphgame_viz(bdd, rgame)"
   ]
  },
  {
   "cell_type": "markdown",
   "metadata": {},
   "source": [
    "# Zielonka"
   ]
  },
  {
   "cell_type": "code",
   "execution_count": 3,
   "metadata": {},
   "outputs": [],
   "source": [
    "g_copy = rgame.induced_game(bdd, rgame.phi_0 | rgame.phi_1)\n",
    "(w0_ziel,w1_ziel) = zielonka(bdd, g_copy)"
   ]
  },
  {
   "cell_type": "markdown",
   "metadata": {},
   "source": [
    "# Buchi solver"
   ]
  },
  {
   "cell_type": "code",
   "execution_count": 4,
   "metadata": {},
   "outputs": [
    {
     "name": "stdout",
     "output_type": "stream",
     "text": [
      "PSolver winning regions not empty\n"
     ]
    }
   ],
   "source": [
    "g_copy = rgame.induced_game(bdd, rgame.phi_0 | rgame.phi_1)\n",
    "(w0_buchi, w1_buchi) = ziel_with_psolver(bdd, g_copy, buchi_solver.buchi_solver)"
   ]
  },
  {
   "cell_type": "code",
   "execution_count": 5,
   "metadata": {},
   "outputs": [],
   "source": [
    "assert(w0_buchi == w0_ziel)\n",
    "assert(w1_buchi == w1_ziel)"
   ]
  },
  {
   "cell_type": "markdown",
   "metadata": {},
   "source": [
    "# Good Ep Solver"
   ]
  },
  {
   "cell_type": "code",
   "execution_count": 6,
   "metadata": {},
   "outputs": [
    {
     "name": "stdout",
     "output_type": "stream",
     "text": [
      "PSolver winning regions not empty\n"
     ]
    }
   ],
   "source": [
    "g_copy = rgame.induced_game(bdd, rgame.phi_0 | rgame.phi_1)\n",
    "(w0_good_ep, w1_good_ep) = ziel_with_psolver(bdd, g_copy, good_ep_solver.good_ep_solver)"
   ]
  },
  {
   "cell_type": "code",
   "execution_count": 7,
   "metadata": {},
   "outputs": [],
   "source": [
    "assert(w0_good_ep == w0_ziel)\n",
    "assert(w1_good_ep == w1_ziel)"
   ]
  },
  {
   "cell_type": "markdown",
   "metadata": {},
   "source": [
    "# Lay Solver"
   ]
  },
  {
   "cell_type": "code",
   "execution_count": 8,
   "metadata": {},
   "outputs": [
    {
     "name": "stdout",
     "output_type": "stream",
     "text": [
      "PSolver winning regions not empty\n"
     ]
    }
   ],
   "source": [
    "g_copy = rgame.induced_game(bdd, rgame.phi_0 | rgame.phi_1)\n",
    "(w0_lay, w1_lay) = ziel_with_psolver(bdd, g_copy, lay_solver.lay_solver)"
   ]
  },
  {
   "cell_type": "code",
   "execution_count": 9,
   "metadata": {},
   "outputs": [],
   "source": [
    "assert(w0_lay == w0_ziel)\n",
    "assert(w1_lay == w1_ziel)"
   ]
  },
  {
   "cell_type": "code",
   "execution_count": 3,
   "metadata": {},
   "outputs": [
    {
     "ename": "ValueError",
     "evalue": "too many values to unpack (expected 2)",
     "output_type": "error",
     "traceback": [
      "\u001b[0;31m---------------------------------------------------------------------------\u001b[0m",
      "\u001b[0;31mValueError\u001b[0m                                Traceback (most recent call last)",
      "\u001b[0;32m<ipython-input-3-cd2400c574cb>\u001b[0m in \u001b[0;36m<module>\u001b[0;34m\u001b[0m\n\u001b[1;32m      6\u001b[0m     \u001b[0;34m(\u001b[0m\u001b[0mw0_ziel\u001b[0m\u001b[0;34m,\u001b[0m\u001b[0mw1_ziel\u001b[0m\u001b[0;34m)\u001b[0m \u001b[0;34m=\u001b[0m \u001b[0mzielonka\u001b[0m\u001b[0;34m(\u001b[0m\u001b[0mbdd\u001b[0m\u001b[0;34m,\u001b[0m \u001b[0mg_copy\u001b[0m\u001b[0;34m)\u001b[0m\u001b[0;34m\u001b[0m\u001b[0;34m\u001b[0m\u001b[0m\n\u001b[1;32m      7\u001b[0m     \u001b[0mg_copy\u001b[0m \u001b[0;34m=\u001b[0m \u001b[0mrgame\u001b[0m\u001b[0;34m.\u001b[0m\u001b[0minduced_game\u001b[0m\u001b[0;34m(\u001b[0m\u001b[0mbdd\u001b[0m\u001b[0;34m,\u001b[0m \u001b[0mrgame\u001b[0m\u001b[0;34m.\u001b[0m\u001b[0mphi_0\u001b[0m \u001b[0;34m|\u001b[0m \u001b[0mrgame\u001b[0m\u001b[0;34m.\u001b[0m\u001b[0mphi_1\u001b[0m\u001b[0;34m)\u001b[0m\u001b[0;34m\u001b[0m\u001b[0;34m\u001b[0m\u001b[0m\n\u001b[0;32m----> 8\u001b[0;31m     \u001b[0;34m(\u001b[0m\u001b[0mw0_buchi\u001b[0m\u001b[0;34m,\u001b[0m \u001b[0mw1_buchi\u001b[0m\u001b[0;34m)\u001b[0m \u001b[0;34m=\u001b[0m \u001b[0mziel_with_psolver\u001b[0m\u001b[0;34m(\u001b[0m\u001b[0mbdd\u001b[0m\u001b[0;34m,\u001b[0m \u001b[0mg_copy\u001b[0m\u001b[0;34m,\u001b[0m \u001b[0mbuchi_solver\u001b[0m\u001b[0;34m.\u001b[0m\u001b[0mbuchi_solver\u001b[0m\u001b[0;34m,\u001b[0m \u001b[0;32mFalse\u001b[0m\u001b[0;34m)\u001b[0m\u001b[0;34m\u001b[0m\u001b[0;34m\u001b[0m\u001b[0m\n\u001b[0m\u001b[1;32m      9\u001b[0m     \u001b[0mg_copy\u001b[0m \u001b[0;34m=\u001b[0m \u001b[0mrgame\u001b[0m\u001b[0;34m.\u001b[0m\u001b[0minduced_game\u001b[0m\u001b[0;34m(\u001b[0m\u001b[0mbdd\u001b[0m\u001b[0;34m,\u001b[0m \u001b[0mrgame\u001b[0m\u001b[0;34m.\u001b[0m\u001b[0mphi_0\u001b[0m \u001b[0;34m|\u001b[0m \u001b[0mrgame\u001b[0m\u001b[0;34m.\u001b[0m\u001b[0mphi_1\u001b[0m\u001b[0;34m)\u001b[0m\u001b[0;34m\u001b[0m\u001b[0;34m\u001b[0m\u001b[0m\n\u001b[1;32m     10\u001b[0m     \u001b[0;34m(\u001b[0m\u001b[0mw0_good_ep\u001b[0m\u001b[0;34m,\u001b[0m \u001b[0mw1_good_ep\u001b[0m\u001b[0;34m)\u001b[0m \u001b[0;34m=\u001b[0m \u001b[0mziel_with_psolver\u001b[0m\u001b[0;34m(\u001b[0m\u001b[0mbdd\u001b[0m\u001b[0;34m,\u001b[0m \u001b[0mg_copy\u001b[0m\u001b[0;34m,\u001b[0m \u001b[0mgood_ep_solver\u001b[0m\u001b[0;34m.\u001b[0m\u001b[0mgood_ep_solver\u001b[0m\u001b[0;34m,\u001b[0m \u001b[0;32mFalse\u001b[0m\u001b[0;34m)\u001b[0m\u001b[0;34m\u001b[0m\u001b[0;34m\u001b[0m\u001b[0m\n",
      "\u001b[0;31mValueError\u001b[0m: too many values to unpack (expected 2)"
     ]
    }
   ],
   "source": [
    "for i in range(50):\n",
    "    \n",
    "    bdd = _bdd.BDD()\n",
    "    rgame = random_game(bdd, 500,5,1,15)\n",
    "    g_copy = rgame.induced_game(bdd, rgame.phi_0 | rgame.phi_1)\n",
    "    (w0_ziel,w1_ziel) = zielonka(bdd, g_copy)\n",
    "    g_copy = rgame.induced_game(bdd, rgame.phi_0 | rgame.phi_1)\n",
    "    (w0_buchi, w1_buchi, psolver_usefull) = ziel_with_psolver(bdd, g_copy, buchi_solver.buchi_solver, False)\n",
    "    g_copy = rgame.induced_game(bdd, rgame.phi_0 | rgame.phi_1)\n",
    "    (w0_good_ep, w1_good_ep) = ziel_with_psolver(bdd, g_copy, good_ep_solver.good_ep_solver, False)\n",
    "    g_copy = rgame.induced_game(bdd, rgame.phi_0 | rgame.phi_1)\n",
    "    (w0_lay, w1_lay) = ziel_with_psolver(bdd, g_copy, lay_solver.lay_solver, False)\n",
    "    assert(w0_good_ep == w0_ziel)\n",
    "    assert(w1_good_ep == w1_ziel)\n",
    "    assert(w0_buchi == w0_ziel)\n",
    "    assert(w1_buchi == w1_ziel)\n",
    "    assert(w0_lay == w0_ziel)\n",
    "    assert(w1_lay == w1_ziel)"
   ]
  },
  {
   "cell_type": "code",
   "execution_count": null,
   "metadata": {},
   "outputs": [],
   "source": []
  }
 ],
 "metadata": {
  "kernelspec": {
   "display_name": "Python 3",
   "language": "python",
   "name": "python3"
  },
  "language_info": {
   "codemirror_mode": {
    "name": "ipython",
    "version": 3
   },
   "file_extension": ".py",
   "mimetype": "text/x-python",
   "name": "python",
   "nbconvert_exporter": "python",
   "pygments_lexer": "ipython3",
   "version": "3.8.5"
  }
 },
 "nbformat": 4,
 "nbformat_minor": 4
}
