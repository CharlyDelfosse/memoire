{
 "cells": [
  {
   "cell_type": "markdown",
   "metadata": {},
   "source": [
    "# Imports"
   ]
  },
  {
   "cell_type": "code",
   "execution_count": 1,
   "metadata": {},
   "outputs": [],
   "source": [
    "import dd.cudd as _bdd\n",
    "from game.generator import random_game\n",
    "from game.visualizer import graphgame_viz\n",
    "\n",
    "from zielonka import zielonka, ziel_with_psolver\n",
    "\n",
    "from psolvers import buchi_solver, good_ep_solver, lay_solver, psolB\n",
    "\n",
    "from gen import generator_gen, classical, visualizer_gen\n",
    "from psolvers_gen import buchi_solver_gen, good_ep_solver_gen, lay_solver_gen"
   ]
  },
  {
   "cell_type": "markdown",
   "metadata": {},
   "source": [
    "# Init game"
   ]
  },
  {
   "cell_type": "code",
   "execution_count": 2,
   "metadata": {},
   "outputs": [],
   "source": [
    "bdd = _bdd.BDD()\n",
    "rgame = random_game(bdd, 5,2,1,2)"
   ]
  },
  {
   "cell_type": "code",
   "execution_count": 3,
   "metadata": {},
   "outputs": [
    {
     "data": {
      "image/png": "[encoded data removed]",
      "text/plain": [
       "<Figure size 432x288 with 1 Axes>"
      ]
     },
     "metadata": {},
     "output_type": "display_data"
    }
   ],
   "source": [
    "graphgame_viz(bdd, rgame)"
   ]
  },
  {
   "cell_type": "markdown",
   "metadata": {},
   "source": [
    "# Zielonka"
   ]
  },
  {
   "cell_type": "code",
   "execution_count": 3,
   "metadata": {},
   "outputs": [],
   "source": [
    "g_copy = rgame.induced_game(bdd, rgame.phi_0 | rgame.phi_1)\n",
    "(w0_ziel,w1_ziel) = zielonka(bdd, g_copy)"
   ]
  },
  {
   "cell_type": "code",
   "execution_count": 4,
   "metadata": {},
   "outputs": [
    {
     "name": "stdout",
     "output_type": "stream",
     "text": [
      "[{'x2': False, 'x0': False, 'x1': False}, {'x2': True, 'x0': False, 'x1': False}, {'x0': False, 'x1': True, 'x2': False}, {'x2': False, 'x0': True, 'x1': False}, {'x2': True, 'x0': True, 'x1': False}]\n",
      "[]\n"
     ]
    }
   ],
   "source": [
    "print(list(bdd.pick_iter(w0_ziel)))\n",
    "print(list(bdd.pick_iter(w1_ziel)))"
   ]
  },
  {
   "cell_type": "markdown",
   "metadata": {},
   "source": [
    "## Buchi solver"
   ]
  },
  {
   "cell_type": "code",
   "execution_count": 6,
   "metadata": {},
   "outputs": [],
   "source": [
    "g_copy = rgame.induced_game(bdd, rgame.phi_0 | rgame.phi_1)\n",
    "(w0_buchi, w1_buchi, _) = ziel_with_psolver(bdd, g_copy, buchi_solver.buchi_solver)"
   ]
  },
  {
   "cell_type": "code",
   "execution_count": 7,
   "metadata": {},
   "outputs": [],
   "source": [
    "assert(w0_buchi == w0_ziel)\n",
    "assert(w1_buchi == w1_ziel)"
   ]
  },
  {
   "cell_type": "markdown",
   "metadata": {},
   "source": [
    "## PsolB"
   ]
  },
  {
   "cell_type": "code",
   "execution_count": 8,
   "metadata": {},
   "outputs": [],
   "source": [
    "g_copy = rgame.induced_game(bdd, rgame.phi_0 | rgame.phi_1)\n",
    "(w0_psolB, w1_psolB, _) = ziel_with_psolver(bdd, g_copy, psolB.psolB)"
   ]
  },
  {
   "cell_type": "code",
   "execution_count": 9,
   "metadata": {},
   "outputs": [],
   "source": [
    "assert(w0_psolB == w0_ziel)\n",
    "assert(w1_psolB == w1_ziel)"
   ]
  },
  {
   "cell_type": "code",
   "execution_count": 10,
   "metadata": {},
   "outputs": [
    {
     "name": "stdout",
     "output_type": "stream",
     "text": [
      "[{'x2': False, 'x0': False, 'x1': False}, {'x2': True, 'x0': False, 'x1': False}, {'x0': False, 'x1': True, 'x2': False}, {'x2': False, 'x0': True, 'x1': False}, {'x2': True, 'x0': True, 'x1': False}]\n",
      "[]\n"
     ]
    }
   ],
   "source": [
    "print(list(bdd.pick_iter(w0_psolB)))\n",
    "print(list(bdd.pick_iter(w1_psolB)))"
   ]
  },
  {
   "cell_type": "markdown",
   "metadata": {},
   "source": [
    "## Good Ep Solver"
   ]
  },
  {
   "cell_type": "code",
   "execution_count": 6,
   "metadata": {},
   "outputs": [
    {
     "name": "stdout",
     "output_type": "stream",
     "text": [
      "PSolver winning regions not empty\n"
     ]
    }
   ],
   "source": [
    "g_copy = rgame.induced_game(bdd, rgame.phi_0 | rgame.phi_1)\n",
    "(w0_good_ep, w1_good_ep, _) = ziel_with_psolver(bdd, g_copy, good_ep_solver.good_ep_solver)"
   ]
  },
  {
   "cell_type": "code",
   "execution_count": 7,
   "metadata": {},
   "outputs": [],
   "source": [
    "assert(w0_good_ep == w0_ziel)\n",
    "assert(w1_good_ep == w1_ziel)"
   ]
  },
  {
   "cell_type": "markdown",
   "metadata": {},
   "source": [
    "## Lay Solver"
   ]
  },
  {
   "cell_type": "code",
   "execution_count": 8,
   "metadata": {},
   "outputs": [
    {
     "name": "stdout",
     "output_type": "stream",
     "text": [
      "PSolver winning regions not empty\n"
     ]
    }
   ],
   "source": [
    "g_copy = rgame.induced_game(bdd, rgame.phi_0 | rgame.phi_1)\n",
    "(w0_lay, w1_lay) = ziel_with_psolver(bdd, g_copy, lay_solver.lay_solver)"
   ]
  },
  {
   "cell_type": "code",
   "execution_count": 9,
   "metadata": {},
   "outputs": [],
   "source": [
    "assert(w0_lay == w0_ziel)\n",
    "assert(w1_lay == w1_ziel)"
   ]
  },
  {
   "cell_type": "markdown",
   "metadata": {},
   "source": [
    "## Little benchmark"
   ]
  },
  {
   "cell_type": "code",
   "execution_count": 2,
   "metadata": {},
   "outputs": [],
   "source": [
    "for i in range(50):\n",
    "    bdd = _bdd.BDD()\n",
    "    rgame = random_game(bdd, 500,4,1,5)\n",
    "    g_copy = rgame.induced_game(bdd, rgame.phi_0 | rgame.phi_1)\n",
    "    (w0_ziel,w1_ziel) = zielonka(bdd, g_copy)\n",
    "    g_copy = rgame.induced_game(bdd, rgame.phi_0 | rgame.phi_1)\n",
    "    (w0_buchi, w1_buchi, psolver_usefull) = ziel_with_psolver(bdd, g_copy, buchi_solver.buchi_solver)\n",
    "    g_copy = rgame.induced_game(bdd, rgame.phi_0 | rgame.phi_1)\n",
    "    (w0_good_ep, w1_good_ep, psolver_usefull) = ziel_with_psolver(bdd, g_copy, good_ep_solver.good_ep_solver)\n",
    "    g_copy = rgame.induced_game(bdd, rgame.phi_0 | rgame.phi_1)\n",
    "    (w0_lay, w1_lay, psolver_usefull) = ziel_with_psolver(bdd, g_copy, lay_solver.lay_solver)\n",
    "    assert(w0_good_ep == w0_ziel)\n",
    "    assert(w1_good_ep == w1_ziel)\n",
    "    assert(w0_buchi == w0_ziel)\n",
    "    assert(w1_buchi == w1_ziel)\n",
    "    assert(w0_lay == w0_ziel)\n",
    "    assert(w1_lay == w1_ziel)"
   ]
  },
  {
   "cell_type": "markdown",
   "metadata": {},
   "source": [
    "# Generalized parity games"
   ]
  },
  {
   "cell_type": "markdown",
   "metadata": {},
   "source": [
    "## Init game"
   ]
  },
  {
   "cell_type": "code",
   "execution_count": 2,
   "metadata": {},
   "outputs": [],
   "source": [
    "bdd = _bdd.BDD()\n",
    "rgame_gen = generator_gen.random_game_gen(bdd, 5,[1,2],1,3)"
   ]
  },
  {
   "cell_type": "code",
   "execution_count": 189,
   "metadata": {},
   "outputs": [
    {
     "data": {
      "image/png": "[encoded data removed]",
      "text/plain": [
       "<Figure size 432x288 with 1 Axes>"
      ]
     },
     "metadata": {},
     "output_type": "display_data"
    }
   ],
   "source": [
    "visualizer_gen.graphgame_viz(bdd, rgame_gen)"
   ]
  },
  {
   "cell_type": "code",
   "execution_count": 111,
   "metadata": {},
   "outputs": [
    {
     "name": "stdout",
     "output_type": "stream",
     "text": [
      "(~ ite(x0, x2, ite(x1, x2, FALSE)))\n"
     ]
    }
   ],
   "source": [
    "print(bdd.to_expr(rgame_gen.phi_0 | rgame_gen.phi_1))"
   ]
  },
  {
   "cell_type": "markdown",
   "metadata": {},
   "source": [
    "## Classical"
   ]
  },
  {
   "cell_type": "code",
   "execution_count": 155,
   "metadata": {},
   "outputs": [],
   "source": [
    "g_copy = rgame_gen.induced_game(bdd, rgame_gen.phi_0 | rgame_gen.phi_1)\n",
    "w0_class, w1_class = classical.classical(bdd, g_copy)"
   ]
  },
  {
   "cell_type": "code",
   "execution_count": 156,
   "metadata": {},
   "outputs": [
    {
     "name": "stdout",
     "output_type": "stream",
     "text": [
      "FALSE\n",
      "(~ ite(x0, ite(x1, TRUE, x2), FALSE))\n"
     ]
    }
   ],
   "source": [
    "print(bdd.to_expr(w0_class))\n",
    "print(bdd.to_expr(w1_class))"
   ]
  },
  {
   "cell_type": "markdown",
   "metadata": {},
   "source": [
    "## Buchi_gen PSolver"
   ]
  },
  {
   "cell_type": "code",
   "execution_count": 8,
   "metadata": {},
   "outputs": [
    {
     "ename": "NameError",
     "evalue": "name 'classical_with_psolver' is not defined",
     "output_type": "error",
     "traceback": [
      "\u001b[0;31m---------------------------------------------------------------------------\u001b[0m",
      "\u001b[0;31mNameError\u001b[0m                                 Traceback (most recent call last)",
      "\u001b[0;32m<ipython-input-8-c0a471a9e6fe>\u001b[0m in \u001b[0;36m<module>\u001b[0;34m\u001b[0m\n\u001b[1;32m      1\u001b[0m \u001b[0mg_copy\u001b[0m \u001b[0;34m=\u001b[0m \u001b[0mrgame_gen\u001b[0m\u001b[0;34m.\u001b[0m\u001b[0minduced_game\u001b[0m\u001b[0;34m(\u001b[0m\u001b[0mbdd\u001b[0m\u001b[0;34m,\u001b[0m \u001b[0mrgame_gen\u001b[0m\u001b[0;34m.\u001b[0m\u001b[0mphi_0\u001b[0m \u001b[0;34m|\u001b[0m \u001b[0mrgame_gen\u001b[0m\u001b[0;34m.\u001b[0m\u001b[0mphi_1\u001b[0m\u001b[0;34m)\u001b[0m\u001b[0;34m\u001b[0m\u001b[0;34m\u001b[0m\u001b[0m\n\u001b[0;32m----> 2\u001b[0;31m \u001b[0mw0_buchi\u001b[0m\u001b[0;34m,\u001b[0m \u001b[0mw1_buchi\u001b[0m \u001b[0;34m=\u001b[0m \u001b[0mclassical_with_psolver\u001b[0m\u001b[0;34m(\u001b[0m\u001b[0mbdd\u001b[0m\u001b[0;34m,\u001b[0m \u001b[0mg_copy\u001b[0m\u001b[0;34m,\u001b[0m \u001b[0mbuchi_solver_gen\u001b[0m\u001b[0;34m)\u001b[0m\u001b[0;34m\u001b[0m\u001b[0;34m\u001b[0m\u001b[0m\n\u001b[0m",
      "\u001b[0;31mNameError\u001b[0m: name 'classical_with_psolver' is not defined"
     ]
    }
   ],
   "source": [
    "g_copy = rgame_gen.induced_game(bdd, rgame_gen.phi_0 | rgame_gen.phi_1)\n",
    "w0_buchi, w1_buchi = classical.classical_with_psolver(bdd, g_copy, buchi_solver_gen)"
   ]
  },
  {
   "cell_type": "code",
   "execution_count": 233,
   "metadata": {},
   "outputs": [],
   "source": [
    "assert w0_buchi == w0_class\n",
    "assert w1_buchi == w1_class"
   ]
  },
  {
   "cell_type": "markdown",
   "metadata": {},
   "source": [
    "## Good_ep_solver"
   ]
  },
  {
   "cell_type": "code",
   "execution_count": null,
   "metadata": {},
   "outputs": [],
   "source": [
    "g_copy = rgame_gen.induced_game(bdd, rgame_gen.phi_0 | rgame_gen.phi_1)\n",
    "w0_good_ep, w1_good_ep = classical.classical_with_psolver(bdd, g_copy, good_ep_solver_gen.good_ep_solver_gen)"
   ]
  },
  {
   "cell_type": "code",
   "execution_count": null,
   "metadata": {},
   "outputs": [],
   "source": [
    "assert w0_good_ep == w0_class\n",
    "assert w1_good_ep == w1_class"
   ]
  },
  {
   "cell_type": "markdown",
   "metadata": {},
   "source": [
    "## Lay_solver"
   ]
  },
  {
   "cell_type": "code",
   "execution_count": 266,
   "metadata": {},
   "outputs": [],
   "source": [
    "bdd = _bdd.BDD()\n",
    "rgame_gen = generator_gen.random_game_gen(bdd, 5,[1,2],1,3)"
   ]
  },
  {
   "cell_type": "code",
   "execution_count": 17,
   "metadata": {},
   "outputs": [
    {
     "name": "stdout",
     "output_type": "stream",
     "text": [
      "(~ ite(x0, x1, ite(x1, x2, FALSE)))\n",
      "FALSE\n"
     ]
    }
   ],
   "source": [
    "print(bdd.to_expr(w0_class))\n",
    "print(bdd.to_expr(w1_class))"
   ]
  },
  {
   "cell_type": "code",
   "execution_count": 18,
   "metadata": {},
   "outputs": [
    {
     "data": {
      "image/png": "[encoded data removed]",
      "text/plain": [
       "<Figure size 432x288 with 1 Axes>"
      ]
     },
     "metadata": {},
     "output_type": "display_data"
    }
   ],
   "source": [
    "visualizer_gen.graphgame_viz(bdd, rgame)"
   ]
  },
  {
   "cell_type": "code",
   "execution_count": 13,
   "metadata": {},
   "outputs": [],
   "source": [
    "g_copy = rgame.induced_game(bdd, rgame.phi_0 | rgame.phi_1)\n",
    "w0_class, w1_class = classical.classical(bdd, g_copy)"
   ]
  },
  {
   "cell_type": "code",
   "execution_count": 31,
   "metadata": {},
   "outputs": [
    {
     "name": "stdout",
     "output_type": "stream",
     "text": [
      "Curr prio : 0\n",
      "Min_prio : 1\n",
      "f_old : []\n",
      "p : 3\n",
      "u_p : []\n",
      "u_p_bis' : []\n",
      "p : 1\n",
      "u_p : []\n",
      "u_p_bis' : []\n",
      "lay_attr_f : []\n",
      "Curr prio : 1\n",
      "Min_prio : 1\n",
      "f_old : [{'x0': False, 'x1': False, 'x2': False}]\n",
      "p : 3\n",
      "u_p : []\n",
      "u_p_bis' : []\n",
      "p : 1\n",
      "u_p : [{'x0': False, 'x1': False, 'x2': False}]\n",
      "u_p_bis' : [{'x0': False, 'x1': True, 'x2': False}, {'x0': True, 'x1': False, 'x2': True}]\n",
      "lay_attr_f : [{'x2': False, 'x0': False, 'x1': False}, {'x2': True, 'x0': False, 'x1': False}, {'x0': False, 'x1': True, 'x2': False}, {'x0': True, 'x1': False, 'x2': False}]\n",
      "[{'x0': False, 'x1': False, 'x2': False}]\n",
      "True\n",
      "False\n"
     ]
    }
   ],
   "source": [
    "g_copy = rgame.induced_game(bdd, rgame.phi_0 | rgame.phi_1)\n",
    "w0_lay, w1_lay = classical.classical_with_psolver(bdd, g_copy, lay_solver_gen)"
   ]
  },
  {
   "cell_type": "code",
   "execution_count": 269,
   "metadata": {},
   "outputs": [],
   "source": [
    "assert w0_lay == w0_class\n",
    "assert w1_lay == w1_class"
   ]
  },
  {
   "cell_type": "code",
   "execution_count": 21,
   "metadata": {},
   "outputs": [
    {
     "name": "stdout",
     "output_type": "stream",
     "text": [
      "FALSE\n",
      "(~ ite(x0, x1, ite(x1, x2, FALSE)))\n"
     ]
    }
   ],
   "source": [
    "print(bdd.to_expr(w0_lay))\n",
    "print(bdd.to_expr(w1_lay))"
   ]
  },
  {
   "cell_type": "code",
   "execution_count": 30,
   "metadata": {},
   "outputs": [],
   "source": [
    "from copy import copy\n",
    "\n",
    "from attractors import attractors\n",
    "from itertools import product\n",
    "import dd.cudd as _bdd\n",
    "\n",
    "def lay_solver_gen(bdd, g):\n",
    "    if g.phi_0 | g.phi_1 == bdd.false:\n",
    "        return bdd.false, bdd.false\n",
    "\n",
    "    # Search for winning vertices for player 1\n",
    "    for prio_f_index in range(g.k):\n",
    "        print(\"Curr prio : \" + str(prio_f_index))\n",
    "        if g.d[prio_f_index] % 2 == 1:\n",
    "            init_prio = g.d[prio_f_index]\n",
    "        else:\n",
    "            init_prio = g.d[prio_f_index] - 1\n",
    "        for min_prio in range(init_prio, -1, -2):\n",
    "            print(\"Min_prio : \" + str(min_prio))\n",
    "            w = lay_ep_1(bdd, g, min_prio, prio_f_index)\n",
    "            if not w == bdd.false:\n",
    "                print(str(list(bdd.pick_iter(w))))\n",
    "                x = attractors.attractor(bdd, g, 1, w)\n",
    "                ind_game = g.induced_game(bdd, ~x)\n",
    "                (z0, z1) = lay_solver_gen(bdd, ind_game)\n",
    "                return z0, z1 | x\n",
    "\n",
    "    # Search for winning vertices for player 0\n",
    "    min_even_prio = [[] for _ in range(g.k)]\n",
    "    for prio_f_index in range(g.k):\n",
    "        if g.d[prio_f_index] % 2 == 0:\n",
    "            init_prio = g.d[prio_f_index]\n",
    "        else:\n",
    "            init_prio = g.d[prio_f_index] - 1\n",
    "        for curr_prio in range(init_prio, -1, -2):\n",
    "            min_even_prio[prio_f_index].append(curr_prio)\n",
    "    all_combinations = product(*min_even_prio)\n",
    "    init_ext_game_infos(bdd, g)\n",
    "\n",
    "    for comb in all_combinations:\n",
    "        w = lay_ep_full_0(bdd, g, comb)\n",
    "        if not w == bdd.false:\n",
    "            x = attractors.attractor(bdd, g, 0, w)\n",
    "            ind_game = g.induced_game(bdd, ~x)\n",
    "            (z0, z1) = lay_solver_gen(bdd, ind_game)\n",
    "            return z0 | x, z1\n",
    "\n",
    "    return bdd.false, bdd.false\n",
    "\n",
    "\n",
    "def init_ext_game_infos(bdd, g):\n",
    "    em_vars_n = g.k\n",
    "    g.em_vars = ['n{i}'.format(i=i) for i in range(em_vars_n)]\n",
    "    g.em_vars_bis = ['n{i}_bis'.format(i=i) for i in range(em_vars_n)]\n",
    "    em_mapping = dict(zip(g.em_vars, g.em_vars_bis))\n",
    "    bdd.declare(*g.em_vars)\n",
    "    bdd.declare(*g.em_vars_bis)\n",
    "    g.mapping_bis.update(em_mapping)\n",
    "\n",
    "\n",
    "def lay_ep_1(bdd, g, min_prio, c_prio_f):\n",
    "    \n",
    "    f_old = g.sup_prio_expr_odd(bdd, min_prio, c_prio_f)\n",
    "    print(\"f_old : \" + str(list(bdd.pick_iter(f_old))))\n",
    "    while True:\n",
    "        lay_attr_f = lay_attr(bdd, g, min_prio, f_old, c_prio_f)\n",
    "        print(\"lay_attr_f : \" + str(list(bdd.pick_iter(lay_attr_f))))\n",
    "        f = f_old & lay_attr_f\n",
    "        if f == f_old or f == bdd.false:\n",
    "            break\n",
    "        f_old = f\n",
    "    return f\n",
    "\n",
    "\n",
    "def lay_ep_full_0(bdd, g, q):\n",
    "    max_prios = [0 for i in range(g.k)]\n",
    "    for c_prio in range(g.k):\n",
    "        if g.d[c_prio] % 2 == 1:\n",
    "            max_prios[c_prio] = (g.d[c_prio] - 1)\n",
    "        else:\n",
    "            max_prios[c_prio] = (g.d[c_prio])\n",
    "    f_old = g.sup_all_prio_even(bdd, q)\n",
    "    while True:\n",
    "        lay_attr_f = lay_attr_full(bdd, g, q, f_old, max_prios)\n",
    "\n",
    "        f = f_old & lay_attr_f\n",
    "\n",
    "        if f == f_old or f == bdd.false:\n",
    "            break\n",
    "        f_old = f\n",
    "    return f\n",
    "\n",
    "\n",
    "def compute_tau_ext(bdd, g, min_prios):\n",
    "    res_expr = bdd.true\n",
    "\n",
    "    for prio_f_index in range(g.k):\n",
    "        # active in prec\n",
    "        active_prio_1 = bdd.var(g.em_vars[prio_f_index])\n",
    "        # active in current node\n",
    "        active_prio_2 = bdd.let(g.mapping_bis, g.sup_prio_expr_even(bdd, min_prios[prio_f_index], prio_f_index))\n",
    "        active_prio = active_prio_1 | active_prio_2\n",
    "\n",
    "        res_expr = res_expr & (active_prio & bdd.var(g.em_vars_bis[prio_f_index]) | ~active_prio & ~bdd.var(\n",
    "            g.em_vars_bis[prio_f_index]))\n",
    "\n",
    "    return res_expr & g.tau\n",
    "\n",
    "\n",
    "def lay_attr(bdd, g, min_prio, u, c_prio):\n",
    "    if g.d[c_prio] % 2 == 0:\n",
    "        init_prio = g.d[c_prio] + 1\n",
    "    else:\n",
    "        init_prio = g.d[c_prio] + 2\n",
    "\n",
    "    b = bdd.false\n",
    "    for curr_prio in range(init_prio, min_prio - 1, - 2):\n",
    "        u_p = u & g.sup_prio_expr(bdd, curr_prio, c_prio)\n",
    "        u_p_bis = g.sup_prio_expr_even(bdd, curr_prio + 1, c_prio)\n",
    "        #print(\"p : \" + str(curr_prio))\n",
    "        #print(\"u_p : \" + str(list(bdd.pick_iter(u_p))))\n",
    "        #print(\"u_p_bis' : \" + str(list(bdd.pick_iter(u_p_bis))))\n",
    "        p_safe_attr = attractors.p_safe_attractor(bdd, g, 1, u_p | b, u_p_bis & ~b)\n",
    "        b = b | p_safe_attr\n",
    "    return b\n",
    "\n",
    "\n",
    "def lay_attr_full(bdd, g, q, u, max_prios):\n",
    "    p = copy(max_prios)\n",
    "    p_changed = True\n",
    "    c = bdd.false\n",
    "    b = bdd.false\n",
    "    while p_changed:\n",
    "        tau_e = compute_tau_ext(bdd, g, p)\n",
    "        t = u\n",
    "        for prio_f_index in range(g.k):\n",
    "            t = t & bdd.var(g.em_vars[prio_f_index])\n",
    "        t_bis = g.sup_one_prio_odd(bdd, p)\n",
    "        b = p_safe_attractor_full(bdd, g, 0, tau_e, t | c, t_bis & ~c)\n",
    "\n",
    "        # For a vertice (v,n) check that n = N_p(v)\n",
    "        id_prio_n = bdd.true\n",
    "        for curr_f in range(g.k):\n",
    "            greater_even_prio = g.sup_prio_expr_even(bdd, p[curr_f], curr_f)\n",
    "            corr_n = greater_even_prio & bdd.var(g.em_vars[curr_f])\n",
    "            not_corr_n = ~greater_even_prio & ~bdd.var(g.em_vars[curr_f])\n",
    "            id_prio_n = id_prio_n & (corr_n | not_corr_n)\n",
    "\n",
    "        b = b & id_prio_n\n",
    "        p_changed = False\n",
    "        for c_prio in range(g.k):\n",
    "            if p[c_prio] - 2 <= q[c_prio]:\n",
    "                new_value = q[c_prio]\n",
    "            else:\n",
    "                new_value = p[c_prio] - 2\n",
    "            if new_value != p[c_prio]:\n",
    "                p_changed = True\n",
    "            p[c_prio] = new_value\n",
    "        new_c = c | b\n",
    "        c = new_c\n",
    "    return bdd.exist(g.em_vars, b)\n",
    "\n",
    "\n",
    "def p_safe_attractor_full(bdd, g, i, tau_e, u, avoid):\n",
    "    # Non-optimized code\n",
    "    # f_1 = (tau_e & bdd.let(g.mapping_bis, u)) & ~avoid\n",
    "    # f_1 = bdd.exist(g.bis_vars + g.em_vars_bis, f_1)\n",
    "    f_1 = _bdd.and_exists(tau_e, bdd.let(g.mapping_bis, u) & ~avoid, g.bis_vars + g.em_vars_bis)\n",
    "\n",
    "    # Non-optimized code\n",
    "    # f_2 = tau_e & bdd.let(g.mapping_bis, ~u)\n",
    "    # f_2 = ~ bdd.exist(g.bis_vars + g.em_vars_bis, f_2) & ~avoid\n",
    "    f_2 = ~_bdd.and_exists(tau_e, bdd.let(g.mapping_bis, ~u), g.bis_vars + g.em_vars_bis) & ~avoid\n",
    "\n",
    "    if i == 0:\n",
    "        f_1 = g.phi_0 & f_1\n",
    "        f_2 = g.phi_1 & f_2\n",
    "    else:\n",
    "        f_1 = g.phi_1 & f_1\n",
    "        f_2 = g.phi_0 & f_2\n",
    "\n",
    "    attr_old = f_1 | f_2\n",
    "    while True:\n",
    "        # Non-optimized code\n",
    "        # f_1 = (tau_e & bdd.let(g.mapping_bis, attr_old)) & ~avoid\n",
    "        # f_1 = bdd.exist(g.bis_vars + g.em_vars_bis, f_1)\n",
    "        f_1 = _bdd.and_exists(tau_e, bdd.let(g.mapping_bis, attr_old) & ~avoid, g.bis_vars + g.em_vars_bis)\n",
    "\n",
    "        # Non-optimized code\n",
    "        # f_2 = tau_e & bdd.let(g.mapping_bis, ~(attr_old | u))\n",
    "        # f_2 = ~ bdd.exist(g.bis_vars + g.em_vars_bis, f_2) & ~avoid\n",
    "        f_2 = ~ _bdd.and_exists(tau_e, bdd.let(g.mapping_bis, ~(attr_old | u)), g.bis_vars + g.em_vars_bis) & ~ avoid\n",
    "\n",
    "        if i == 0:\n",
    "            f_1 = g.phi_0 & f_1\n",
    "            f_2 = g.phi_1 & f_2\n",
    "        else:\n",
    "            f_1 = g.phi_1 & f_1\n",
    "            f_2 = g.phi_0 & f_2\n",
    "\n",
    "        attr_new = attr_old | f_1 | f_2\n",
    "        if attr_new == attr_old:\n",
    "            break\n",
    "        attr_old = attr_new\n",
    "\n",
    "    return attr_old"
   ]
  },
  {
   "cell_type": "markdown",
   "metadata": {},
   "source": [
    "## Little benchmark"
   ]
  },
  {
   "cell_type": "code",
   "execution_count": 5,
   "metadata": {},
   "outputs": [],
   "source": [
    "for i in range(10):\n",
    "    \n",
    "    bdd = _bdd.BDD()\n",
    "    rgame = generator_gen.random_game_gen(bdd, 500,[3,2],1,3)\n",
    "    g_copy = rgame.induced_game(bdd, rgame.phi_0 | rgame.phi_1)\n",
    "    (w0_class,w1_class) = classical.classical(bdd, g_copy)\n",
    "    g_copy = rgame.induced_game(bdd, rgame.phi_0 | rgame.phi_1)\n",
    "    (w0_buchi, w1_buchi, _) = classical.classical_with_psolver(bdd, g_copy, buchi_solver_gen.buchi_solver_gen)\n",
    "    g_copy = rgame.induced_game(bdd, rgame.phi_0 | rgame.phi_1)\n",
    "    (w0_good_ep, w1_good_ep, _) = classical.classical_with_psolver(bdd, g_copy, good_ep_solver_gen.good_ep_solver_gen)\n",
    "    g_copy = rgame.induced_game(bdd, rgame.phi_0 | rgame.phi_1)\n",
    "    (w0_lay, w1_lay, _) = classical.classical_with_psolver(bdd, g_copy, lay_solver_gen.lay_solver_gen)\n",
    "    assert(w0_buchi == w0_class)\n",
    "    assert(w1_buchi == w1_class)\n",
    "    assert(w0_good_ep == w0_class)\n",
    "    assert(w1_good_ep == w1_class)\n",
    "    assert(w0_lay == w0_class)\n",
    "    assert(w1_lay == w1_class)"
   ]
  },
  {
   "cell_type": "code",
   "execution_count": null,
   "metadata": {},
   "outputs": [],
   "source": []
  }
 ],
 "metadata": {
  "kernelspec": {
   "display_name": "Python 3",
   "language": "python",
   "name": "python3"
  },
  "language_info": {
   "codemirror_mode": {
    "name": "ipython",
    "version": 3
   },
   "file_extension": ".py",
   "mimetype": "text/x-python",
   "name": "python",
   "nbconvert_exporter": "python",
   "pygments_lexer": "ipython3",
   "version": "3.8.5"
  }
 },
 "nbformat": 4,
 "nbformat_minor": 4
}
