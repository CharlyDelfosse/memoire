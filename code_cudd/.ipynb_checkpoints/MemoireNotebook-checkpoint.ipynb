{
 "cells": [
  {
   "cell_type": "markdown",
   "metadata": {},
   "source": [
    "# Imports"
   ]
  },
  {
   "cell_type": "code",
   "execution_count": 5,
   "metadata": {},
   "outputs": [],
   "source": [
    "import dd.cudd as _bdd\n",
    "from game.generator import random_game\n",
    "from game.visualizer import graphgame_viz\n",
    "\n",
    "from zielonka import zielonka, ziel_with_psolver\n",
    "\n",
    "from psolvers import buchi_solver"
   ]
  },
  {
   "cell_type": "markdown",
   "metadata": {},
   "source": [
    "# Init game"
   ]
  },
  {
   "cell_type": "code",
   "execution_count": 3,
   "metadata": {},
   "outputs": [],
   "source": [
    "bdd = _bdd.BDD()\n",
    "rgame = random_game(bdd, 500,5,1,5)"
   ]
  },
  {
   "cell_type": "markdown",
   "metadata": {},
   "source": [
    "# Zielonka"
   ]
  },
  {
   "cell_type": "code",
   "execution_count": 4,
   "metadata": {},
   "outputs": [
    {
     "name": "stdout",
     "output_type": "stream",
     "text": [
      "Start zielonka\n",
      "Zielonka check\n",
      "Start zielonka\n",
      "Zielonka check\n",
      "Start zielonka\n",
      "Zielonka check\n"
     ]
    }
   ],
   "source": [
    "g_copy = rgame.induced_game(bdd, rgame.phi_0 | rgame.phi_1)\n",
    "(w0_ziel,w1_ziel) = zielonka(bdd, g_copy)"
   ]
  },
  {
   "cell_type": "markdown",
   "metadata": {},
   "source": [
    "# Buchi solver"
   ]
  },
  {
   "cell_type": "code",
   "execution_count": null,
   "metadata": {},
   "outputs": [],
   "source": [
    "g_copy = rgame.induced_game(bdd, rgame.phi_0 | rgame.phi_1)\n",
    "(w0_buchi, w1_buchi) = ziel_with_psolver(bdd, g_copy)"
   ]
  }
 ],
 "metadata": {
  "kernelspec": {
   "display_name": "Python 3",
   "language": "python",
   "name": "python3"
  },
  "language_info": {
   "codemirror_mode": {
    "name": "ipython",
    "version": 3
   },
   "file_extension": ".py",
   "mimetype": "text/x-python",
   "name": "python",
   "nbconvert_exporter": "python",
   "pygments_lexer": "ipython3",
   "version": "3.8.5"
  }
 },
 "nbformat": 4,
 "nbformat_minor": 4
}
