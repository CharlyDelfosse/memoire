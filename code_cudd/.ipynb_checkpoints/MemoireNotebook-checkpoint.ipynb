{
 "cells": [
  {
   "cell_type": "markdown",
   "metadata": {},
   "source": [
    "# Imports"
   ]
  },
  {
   "cell_type": "code",
   "execution_count": 1,
   "metadata": {},
   "outputs": [],
   "source": [
    "import dd.cudd as _bdd\n",
    "from game.generator import random_game\n",
    "from game.visualizer import graphgame_viz\n",
    "\n",
    "from zielonka import zielonka, ziel_with_psolver\n",
    "\n",
    "from psolvers import buchi_solver, good_ep_solver, lay_solver, psolB\n",
    "\n",
    "from gen import generator_gen, classical, visualizer_gen\n",
    "from psolvers_gen import buchi_solver_gen"
   ]
  },
  {
   "cell_type": "markdown",
   "metadata": {},
   "source": [
    "# Init game"
   ]
  },
  {
   "cell_type": "code",
   "execution_count": 7,
   "metadata": {},
   "outputs": [],
   "source": [
    "bdd = _bdd.BDD()\n",
    "rgame = random_game(bdd, 50,5,1,5)"
   ]
  },
  {
   "cell_type": "code",
   "execution_count": 56,
   "metadata": {},
   "outputs": [
    {
     "data": {
      "image/png": "[encoded data removed]",
      "text/plain": [
       "<Figure size 432x288 with 1 Axes>"
      ]
     },
     "metadata": {},
     "output_type": "display_data"
    }
   ],
   "source": [
    "from game.visualizer import graphgame_viz\n",
    "graphgame_viz(bdd, rgame)"
   ]
  },
  {
   "cell_type": "markdown",
   "metadata": {},
   "source": [
    "# Zielonka"
   ]
  },
  {
   "cell_type": "code",
   "execution_count": 8,
   "metadata": {},
   "outputs": [],
   "source": [
    "g_copy = rgame.induced_game(bdd, rgame.phi_0 | rgame.phi_1)\n",
    "(w0_ziel,w1_ziel) = zielonka(bdd, g_copy)"
   ]
  },
  {
   "cell_type": "markdown",
   "metadata": {},
   "source": [
    "## Buchi solver"
   ]
  },
  {
   "cell_type": "code",
   "execution_count": 4,
   "metadata": {},
   "outputs": [
    {
     "name": "stdout",
     "output_type": "stream",
     "text": [
      "PSolver winning regions not empty\n"
     ]
    }
   ],
   "source": [
    "g_copy = rgame.induced_game(bdd, rgame.phi_0 | rgame.phi_1)\n",
    "(w0_buchi, w1_buchi, _) = ziel_with_psolver(bdd, g_copy, buchi_solver.buchi_solver)"
   ]
  },
  {
   "cell_type": "code",
   "execution_count": 5,
   "metadata": {},
   "outputs": [],
   "source": [
    "assert(w0_buchi == w0_ziel)\n",
    "assert(w1_buchi == w1_ziel)"
   ]
  },
  {
   "cell_type": "markdown",
   "metadata": {},
   "source": [
    "## PsolB"
   ]
  },
  {
   "cell_type": "code",
   "execution_count": 9,
   "metadata": {},
   "outputs": [],
   "source": [
    "g_copy = rgame.induced_game(bdd, rgame.phi_0 | rgame.phi_1)\n",
    "(w0_psolB, w1_psolB, _) = ziel_with_psolver(bdd, g_copy, psolB.psolB)"
   ]
  },
  {
   "cell_type": "code",
   "execution_count": 10,
   "metadata": {},
   "outputs": [],
   "source": [
    "assert(w0_psolB == w0_ziel)\n",
    "assert(w1_psolB == w1_ziel)"
   ]
  },
  {
   "cell_type": "markdown",
   "metadata": {},
   "source": [
    "## Good Ep Solver"
   ]
  },
  {
   "cell_type": "code",
   "execution_count": 6,
   "metadata": {},
   "outputs": [
    {
     "name": "stdout",
     "output_type": "stream",
     "text": [
      "PSolver winning regions not empty\n"
     ]
    }
   ],
   "source": [
    "g_copy = rgame.induced_game(bdd, rgame.phi_0 | rgame.phi_1)\n",
    "(w0_good_ep, w1_good_ep, _) = ziel_with_psolver(bdd, g_copy, good_ep_solver.good_ep_solver)"
   ]
  },
  {
   "cell_type": "code",
   "execution_count": 7,
   "metadata": {},
   "outputs": [],
   "source": [
    "assert(w0_good_ep == w0_ziel)\n",
    "assert(w1_good_ep == w1_ziel)"
   ]
  },
  {
   "cell_type": "markdown",
   "metadata": {},
   "source": [
    "## Lay Solver"
   ]
  },
  {
   "cell_type": "code",
   "execution_count": 8,
   "metadata": {},
   "outputs": [
    {
     "name": "stdout",
     "output_type": "stream",
     "text": [
      "PSolver winning regions not empty\n"
     ]
    }
   ],
   "source": [
    "g_copy = rgame.induced_game(bdd, rgame.phi_0 | rgame.phi_1)\n",
    "(w0_lay, w1_lay) = ziel_with_psolver(bdd, g_copy, lay_solver.lay_solver)"
   ]
  },
  {
   "cell_type": "code",
   "execution_count": 9,
   "metadata": {},
   "outputs": [],
   "source": [
    "assert(w0_lay == w0_ziel)\n",
    "assert(w1_lay == w1_ziel)"
   ]
  },
  {
   "cell_type": "markdown",
   "metadata": {},
   "source": [
    "## Little benchmark"
   ]
  },
  {
   "cell_type": "code",
   "execution_count": 3,
   "metadata": {},
   "outputs": [
    {
     "ename": "ValueError",
     "evalue": "too many values to unpack (expected 2)",
     "output_type": "error",
     "traceback": [
      "\u001b[0;31m---------------------------------------------------------------------------\u001b[0m",
      "\u001b[0;31mValueError\u001b[0m                                Traceback (most recent call last)",
      "\u001b[0;32m<ipython-input-3-cd2400c574cb>\u001b[0m in \u001b[0;36m<module>\u001b[0;34m\u001b[0m\n\u001b[1;32m      6\u001b[0m     \u001b[0;34m(\u001b[0m\u001b[0mw0_ziel\u001b[0m\u001b[0;34m,\u001b[0m\u001b[0mw1_ziel\u001b[0m\u001b[0;34m)\u001b[0m \u001b[0;34m=\u001b[0m \u001b[0mzielonka\u001b[0m\u001b[0;34m(\u001b[0m\u001b[0mbdd\u001b[0m\u001b[0;34m,\u001b[0m \u001b[0mg_copy\u001b[0m\u001b[0;34m)\u001b[0m\u001b[0;34m\u001b[0m\u001b[0;34m\u001b[0m\u001b[0m\n\u001b[1;32m      7\u001b[0m     \u001b[0mg_copy\u001b[0m \u001b[0;34m=\u001b[0m \u001b[0mrgame\u001b[0m\u001b[0;34m.\u001b[0m\u001b[0minduced_game\u001b[0m\u001b[0;34m(\u001b[0m\u001b[0mbdd\u001b[0m\u001b[0;34m,\u001b[0m \u001b[0mrgame\u001b[0m\u001b[0;34m.\u001b[0m\u001b[0mphi_0\u001b[0m \u001b[0;34m|\u001b[0m \u001b[0mrgame\u001b[0m\u001b[0;34m.\u001b[0m\u001b[0mphi_1\u001b[0m\u001b[0;34m)\u001b[0m\u001b[0;34m\u001b[0m\u001b[0;34m\u001b[0m\u001b[0m\n\u001b[0;32m----> 8\u001b[0;31m     \u001b[0;34m(\u001b[0m\u001b[0mw0_buchi\u001b[0m\u001b[0;34m,\u001b[0m \u001b[0mw1_buchi\u001b[0m\u001b[0;34m)\u001b[0m \u001b[0;34m=\u001b[0m \u001b[0mziel_with_psolver\u001b[0m\u001b[0;34m(\u001b[0m\u001b[0mbdd\u001b[0m\u001b[0;34m,\u001b[0m \u001b[0mg_copy\u001b[0m\u001b[0;34m,\u001b[0m \u001b[0mbuchi_solver\u001b[0m\u001b[0;34m.\u001b[0m\u001b[0mbuchi_solver\u001b[0m\u001b[0;34m,\u001b[0m \u001b[0;32mFalse\u001b[0m\u001b[0;34m)\u001b[0m\u001b[0;34m\u001b[0m\u001b[0;34m\u001b[0m\u001b[0m\n\u001b[0m\u001b[1;32m      9\u001b[0m     \u001b[0mg_copy\u001b[0m \u001b[0;34m=\u001b[0m \u001b[0mrgame\u001b[0m\u001b[0;34m.\u001b[0m\u001b[0minduced_game\u001b[0m\u001b[0;34m(\u001b[0m\u001b[0mbdd\u001b[0m\u001b[0;34m,\u001b[0m \u001b[0mrgame\u001b[0m\u001b[0;34m.\u001b[0m\u001b[0mphi_0\u001b[0m \u001b[0;34m|\u001b[0m \u001b[0mrgame\u001b[0m\u001b[0;34m.\u001b[0m\u001b[0mphi_1\u001b[0m\u001b[0;34m)\u001b[0m\u001b[0;34m\u001b[0m\u001b[0;34m\u001b[0m\u001b[0m\n\u001b[1;32m     10\u001b[0m     \u001b[0;34m(\u001b[0m\u001b[0mw0_good_ep\u001b[0m\u001b[0;34m,\u001b[0m \u001b[0mw1_good_ep\u001b[0m\u001b[0;34m)\u001b[0m \u001b[0;34m=\u001b[0m \u001b[0mziel_with_psolver\u001b[0m\u001b[0;34m(\u001b[0m\u001b[0mbdd\u001b[0m\u001b[0;34m,\u001b[0m \u001b[0mg_copy\u001b[0m\u001b[0;34m,\u001b[0m \u001b[0mgood_ep_solver\u001b[0m\u001b[0;34m.\u001b[0m\u001b[0mgood_ep_solver\u001b[0m\u001b[0;34m,\u001b[0m \u001b[0;32mFalse\u001b[0m\u001b[0;34m)\u001b[0m\u001b[0;34m\u001b[0m\u001b[0;34m\u001b[0m\u001b[0m\n",
      "\u001b[0;31mValueError\u001b[0m: too many values to unpack (expected 2)"
     ]
    }
   ],
   "source": [
    "for i in range(50):\n",
    "    \n",
    "    bdd = _bdd.BDD()\n",
    "    rgame = random_game(bdd, 500,5,1,15)\n",
    "    g_copy = rgame.induced_game(bdd, rgame.phi_0 | rgame.phi_1)\n",
    "    (w0_ziel,w1_ziel) = zielonka(bdd, g_copy)\n",
    "    g_copy = rgame.induced_game(bdd, rgame.phi_0 | rgame.phi_1)\n",
    "    (w0_buchi, w1_buchi, psolver_usefull) = ziel_with_psolver(bdd, g_copy, buchi_solver.buchi_solver, False)\n",
    "    g_copy = rgame.induced_game(bdd, rgame.phi_0 | rgame.phi_1)\n",
    "    (w0_good_ep, w1_good_ep) = ziel_with_psolver(bdd, g_copy, good_ep_solver.good_ep_solver, False)\n",
    "    g_copy = rgame.induced_game(bdd, rgame.phi_0 | rgame.phi_1)\n",
    "    (w0_lay, w1_lay) = ziel_with_psolver(bdd, g_copy, lay_solver.lay_solver, False)\n",
    "    assert(w0_good_ep == w0_ziel)\n",
    "    assert(w1_good_ep == w1_ziel)\n",
    "    assert(w0_buchi == w0_ziel)\n",
    "    assert(w1_buchi == w1_ziel)\n",
    "    assert(w0_lay == w0_ziel)\n",
    "    assert(w1_lay == w1_ziel)"
   ]
  },
  {
   "cell_type": "markdown",
   "metadata": {},
   "source": [
    "# Generalized parity games"
   ]
  },
  {
   "cell_type": "markdown",
   "metadata": {},
   "source": [
    "## Init game"
   ]
  },
  {
   "cell_type": "code",
   "execution_count": 2,
   "metadata": {},
   "outputs": [],
   "source": [
    "bdd = _bdd.BDD()\n",
    "rgame_gen = generator_gen.random_game_gen(bdd, 5,[1,2],1,3)"
   ]
  },
  {
   "cell_type": "code",
   "execution_count": 189,
   "metadata": {},
   "outputs": [
    {
     "data": {
      "image/png": "[encoded data removed]",
      "text/plain": [
       "<Figure size 432x288 with 1 Axes>"
      ]
     },
     "metadata": {},
     "output_type": "display_data"
    }
   ],
   "source": [
    "visualizer_gen.graphgame_viz(bdd, rgame_gen)"
   ]
  },
  {
   "cell_type": "code",
   "execution_count": 111,
   "metadata": {},
   "outputs": [
    {
     "name": "stdout",
     "output_type": "stream",
     "text": [
      "(~ ite(x0, x2, ite(x1, x2, FALSE)))\n"
     ]
    }
   ],
   "source": [
    "print(bdd.to_expr(rgame_gen.phi_0 | rgame_gen.phi_1))"
   ]
  },
  {
   "cell_type": "markdown",
   "metadata": {},
   "source": [
    "## Classical"
   ]
  },
  {
   "cell_type": "code",
   "execution_count": 229,
   "metadata": {},
   "outputs": [],
   "source": [
    "g_copy = rgame_gen.induced_game(bdd, rgame_gen.phi_0 | rgame_gen.phi_1)\n",
    "w0_class, w1_class = classical.classical(bdd, g_copy)"
   ]
  },
  {
   "cell_type": "code",
   "execution_count": 227,
   "metadata": {},
   "outputs": [
    {
     "name": "stdout",
     "output_type": "stream",
     "text": [
      "FALSE\n",
      "(~ ite(x0, ite(x1, TRUE, x2), FALSE))\n"
     ]
    }
   ],
   "source": [
    "print(bdd.to_expr(w0_class))\n",
    "print(bdd.to_expr(w1_class))"
   ]
  },
  {
   "cell_type": "markdown",
   "metadata": {},
   "source": [
    "## Buchi_gen PSolver"
   ]
  },
  {
   "cell_type": "code",
   "execution_count": 8,
   "metadata": {},
   "outputs": [
    {
     "ename": "NameError",
     "evalue": "name 'classical_with_psolver' is not defined",
     "output_type": "error",
     "traceback": [
      "\u001b[0;31m---------------------------------------------------------------------------\u001b[0m",
      "\u001b[0;31mNameError\u001b[0m                                 Traceback (most recent call last)",
      "\u001b[0;32m<ipython-input-8-c0a471a9e6fe>\u001b[0m in \u001b[0;36m<module>\u001b[0;34m\u001b[0m\n\u001b[1;32m      1\u001b[0m \u001b[0mg_copy\u001b[0m \u001b[0;34m=\u001b[0m \u001b[0mrgame_gen\u001b[0m\u001b[0;34m.\u001b[0m\u001b[0minduced_game\u001b[0m\u001b[0;34m(\u001b[0m\u001b[0mbdd\u001b[0m\u001b[0;34m,\u001b[0m \u001b[0mrgame_gen\u001b[0m\u001b[0;34m.\u001b[0m\u001b[0mphi_0\u001b[0m \u001b[0;34m|\u001b[0m \u001b[0mrgame_gen\u001b[0m\u001b[0;34m.\u001b[0m\u001b[0mphi_1\u001b[0m\u001b[0;34m)\u001b[0m\u001b[0;34m\u001b[0m\u001b[0;34m\u001b[0m\u001b[0m\n\u001b[0;32m----> 2\u001b[0;31m \u001b[0mw0_buchi\u001b[0m\u001b[0;34m,\u001b[0m \u001b[0mw1_buchi\u001b[0m \u001b[0;34m=\u001b[0m \u001b[0mclassical_with_psolver\u001b[0m\u001b[0;34m(\u001b[0m\u001b[0mbdd\u001b[0m\u001b[0;34m,\u001b[0m \u001b[0mg_copy\u001b[0m\u001b[0;34m,\u001b[0m \u001b[0mbuchi_solver_gen\u001b[0m\u001b[0;34m)\u001b[0m\u001b[0;34m\u001b[0m\u001b[0;34m\u001b[0m\u001b[0m\n\u001b[0m",
      "\u001b[0;31mNameError\u001b[0m: name 'classical_with_psolver' is not defined"
     ]
    }
   ],
   "source": [
    "g_copy = rgame_gen.induced_game(bdd, rgame_gen.phi_0 | rgame_gen.phi_1)\n",
    "w0_buchi, w1_buchi = classical.classical_with_psolver(bdd, g_copy, buchi_solver_gen)"
   ]
  },
  {
   "cell_type": "code",
   "execution_count": 233,
   "metadata": {},
   "outputs": [],
   "source": [
    "assert w0_buchi == w0_class\n",
    "assert w1_buchi == w1_class"
   ]
  },
  {
   "cell_type": "markdown",
   "metadata": {},
   "source": [
    "## Little benchmark"
   ]
  },
  {
   "cell_type": "code",
   "execution_count": 8,
   "metadata": {},
   "outputs": [
    {
     "name": "stdout",
     "output_type": "stream",
     "text": [
      "True\n",
      "False\n",
      "True\n",
      "False\n",
      "True\n",
      "False\n",
      "True\n",
      "False\n",
      "True\n",
      "False\n",
      "True\n",
      "False\n",
      "True\n",
      "False\n",
      "True\n",
      "False\n",
      "True\n",
      "False\n",
      "False\n",
      "False\n",
      "False\n",
      "False\n",
      "True\n",
      "False\n",
      "True\n",
      "False\n",
      "True\n",
      "False\n",
      "True\n",
      "False\n",
      "True\n",
      "False\n",
      "True\n",
      "False\n",
      "False\n",
      "False\n",
      "True\n",
      "False\n",
      "True\n",
      "False\n",
      "True\n",
      "False\n",
      "True\n",
      "False\n",
      "True\n",
      "False\n",
      "True\n",
      "False\n",
      "True\n",
      "False\n",
      "False\n",
      "False\n",
      "True\n",
      "False\n",
      "True\n",
      "False\n",
      "True\n",
      "False\n",
      "True\n",
      "False\n",
      "True\n",
      "False\n",
      "True\n",
      "False\n",
      "True\n",
      "False\n",
      "True\n",
      "False\n",
      "True\n",
      "False\n",
      "True\n",
      "False\n",
      "True\n",
      "False\n",
      "False\n",
      "False\n",
      "True\n",
      "False\n",
      "True\n",
      "False\n",
      "True\n",
      "False\n",
      "False\n",
      "True\n",
      "True\n",
      "False\n",
      "True\n",
      "False\n",
      "True\n",
      "False\n",
      "True\n",
      "False\n",
      "True\n",
      "False\n",
      "True\n",
      "False\n",
      "True\n",
      "False\n",
      "True\n",
      "False\n"
     ]
    }
   ],
   "source": [
    "for i in range(50):\n",
    "    \n",
    "    bdd = _bdd.BDD()\n",
    "    rgame = generator_gen.random_game_gen(bdd, 50,[1,2],1,3)\n",
    "    g_copy = rgame.induced_game(bdd, rgame.phi_0 | rgame.phi_1)\n",
    "    (w0_class,w1_class) = classical.classical(bdd, g_copy)\n",
    "    g_copy = rgame.induced_game(bdd, rgame.phi_0 | rgame.phi_1)\n",
    "    (w0_buchi, w1_buchi) = classical.classical_with_psolver(bdd, g_copy, buchi_solver_gen.buchi_solver_gen)\n",
    "    assert(w0_buchi == w0_class)\n",
    "    assert(w1_buchi == w1_class)"
   ]
  },
  {
   "cell_type": "code",
   "execution_count": null,
   "metadata": {},
   "outputs": [],
   "source": []
  }
 ],
 "metadata": {
  "kernelspec": {
   "display_name": "Python 3",
   "language": "python",
   "name": "python3"
  },
  "language_info": {
   "codemirror_mode": {
    "name": "ipython",
    "version": 3
   },
   "file_extension": ".py",
   "mimetype": "text/x-python",
   "name": "python",
   "nbconvert_exporter": "python",
   "pygments_lexer": "ipython3",
   "version": "3.8.5"
  }
 },
 "nbformat": 4,
 "nbformat_minor": 4
}
